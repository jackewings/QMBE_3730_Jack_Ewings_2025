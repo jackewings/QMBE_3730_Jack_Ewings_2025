{
 "cells": [
  {
   "cell_type": "code",
   "execution_count": 229,
   "id": "2267f7ba-4818-4bd6-947e-b4ca14ea23db",
   "metadata": {},
   "outputs": [],
   "source": [
    "# Importing libraries\n",
    "import pandas as pd\n",
    "import numpy as np\n",
    "import matplotlib.pyplot as plt\n",
    "import seaborn as sns\n",
    "from scipy.stats import skew\n",
    "from sklearn.model_selection import train_test_split\n",
    "import statsmodels.api as sm\n",
    "from sklearn.metrics import accuracy_score, precision_score, recall_score, confusion_matrix"
   ]
  },
  {
   "cell_type": "code",
   "execution_count": 230,
   "id": "5b43895d-c109-41c2-a18a-764be71bc12b",
   "metadata": {},
   "outputs": [
    {
     "data": {
      "text/html": [
       "<div>\n",
       "<style scoped>\n",
       "    .dataframe tbody tr th:only-of-type {\n",
       "        vertical-align: middle;\n",
       "    }\n",
       "\n",
       "    .dataframe tbody tr th {\n",
       "        vertical-align: top;\n",
       "    }\n",
       "\n",
       "    .dataframe thead th {\n",
       "        text-align: right;\n",
       "    }\n",
       "</style>\n",
       "<table border=\"1\" class=\"dataframe\">\n",
       "  <thead>\n",
       "    <tr style=\"text-align: right;\">\n",
       "      <th></th>\n",
       "      <th>admit</th>\n",
       "      <th>gre</th>\n",
       "      <th>gpa</th>\n",
       "      <th>rank</th>\n",
       "    </tr>\n",
       "  </thead>\n",
       "  <tbody>\n",
       "    <tr>\n",
       "      <th>0</th>\n",
       "      <td>0</td>\n",
       "      <td>380</td>\n",
       "      <td>3.61</td>\n",
       "      <td>3</td>\n",
       "    </tr>\n",
       "    <tr>\n",
       "      <th>1</th>\n",
       "      <td>1</td>\n",
       "      <td>660</td>\n",
       "      <td>3.67</td>\n",
       "      <td>3</td>\n",
       "    </tr>\n",
       "    <tr>\n",
       "      <th>2</th>\n",
       "      <td>1</td>\n",
       "      <td>800</td>\n",
       "      <td>4.00</td>\n",
       "      <td>1</td>\n",
       "    </tr>\n",
       "    <tr>\n",
       "      <th>3</th>\n",
       "      <td>1</td>\n",
       "      <td>640</td>\n",
       "      <td>3.19</td>\n",
       "      <td>4</td>\n",
       "    </tr>\n",
       "    <tr>\n",
       "      <th>4</th>\n",
       "      <td>0</td>\n",
       "      <td>520</td>\n",
       "      <td>2.93</td>\n",
       "      <td>4</td>\n",
       "    </tr>\n",
       "  </tbody>\n",
       "</table>\n",
       "</div>"
      ],
      "text/plain": [
       "   admit  gre   gpa  rank\n",
       "0      0  380  3.61     3\n",
       "1      1  660  3.67     3\n",
       "2      1  800  4.00     1\n",
       "3      1  640  3.19     4\n",
       "4      0  520  2.93     4"
      ]
     },
     "execution_count": 230,
     "metadata": {},
     "output_type": "execute_result"
    }
   ],
   "source": [
    "# Loading in the csv file as a dataframe, making a copy of it, and previewing the first 5 rows\n",
    "df = pd.read_csv('admit.csv')\n",
    "original = df.copy()\n",
    "\n",
    "df.head()"
   ]
  },
  {
   "cell_type": "code",
   "execution_count": 231,
   "id": "0a703b2d-1a36-45ee-b2c8-0001d8391776",
   "metadata": {},
   "outputs": [
    {
     "name": "stdout",
     "output_type": "stream",
     "text": [
      "There are 5 duplicate rows in the dataframe\n",
      "\n",
      "<class 'pandas.core.frame.DataFrame'>\n",
      "RangeIndex: 400 entries, 0 to 399\n",
      "Data columns (total 4 columns):\n",
      " #   Column  Non-Null Count  Dtype  \n",
      "---  ------  --------------  -----  \n",
      " 0   admit   400 non-null    int64  \n",
      " 1   gre     400 non-null    int64  \n",
      " 2   gpa     400 non-null    float64\n",
      " 3   rank    400 non-null    int64  \n",
      "dtypes: float64(1), int64(3)\n",
      "memory usage: 12.6 KB\n"
     ]
    }
   ],
   "source": [
    "# Checking the shape, data types, and count of non-null and duplicated columns \n",
    "print(f'There are {df.duplicated().sum()} duplicate rows in the dataframe\\n')\n",
    "df.info()\n",
    "\n",
    "# The dataframe contains 5 duplicate rows\n",
    "# dataframe shape is [400 x 4]\n",
    "# All numeric data types with 'gpa' being a float64, and the rest being of type int64\n",
    "# No null columns"
   ]
  },
  {
   "cell_type": "code",
   "execution_count": 232,
   "id": "94843fe1-fe22-442a-aeef-3eeaeaa1571f",
   "metadata": {},
   "outputs": [
    {
     "data": {
      "text/html": [
       "<div>\n",
       "<style scoped>\n",
       "    .dataframe tbody tr th:only-of-type {\n",
       "        vertical-align: middle;\n",
       "    }\n",
       "\n",
       "    .dataframe tbody tr th {\n",
       "        vertical-align: top;\n",
       "    }\n",
       "\n",
       "    .dataframe thead th {\n",
       "        text-align: right;\n",
       "    }\n",
       "</style>\n",
       "<table border=\"1\" class=\"dataframe\">\n",
       "  <thead>\n",
       "    <tr style=\"text-align: right;\">\n",
       "      <th></th>\n",
       "      <th>admit</th>\n",
       "      <th>gre</th>\n",
       "      <th>gpa</th>\n",
       "      <th>rank</th>\n",
       "    </tr>\n",
       "  </thead>\n",
       "  <tbody>\n",
       "    <tr>\n",
       "      <th>59</th>\n",
       "      <td>0</td>\n",
       "      <td>600</td>\n",
       "      <td>2.82</td>\n",
       "      <td>4</td>\n",
       "    </tr>\n",
       "    <tr>\n",
       "      <th>77</th>\n",
       "      <td>1</td>\n",
       "      <td>800</td>\n",
       "      <td>4.00</td>\n",
       "      <td>3</td>\n",
       "    </tr>\n",
       "    <tr>\n",
       "      <th>202</th>\n",
       "      <td>1</td>\n",
       "      <td>700</td>\n",
       "      <td>4.00</td>\n",
       "      <td>1</td>\n",
       "    </tr>\n",
       "    <tr>\n",
       "      <th>263</th>\n",
       "      <td>1</td>\n",
       "      <td>620</td>\n",
       "      <td>3.95</td>\n",
       "      <td>3</td>\n",
       "    </tr>\n",
       "    <tr>\n",
       "      <th>398</th>\n",
       "      <td>0</td>\n",
       "      <td>700</td>\n",
       "      <td>3.65</td>\n",
       "      <td>2</td>\n",
       "    </tr>\n",
       "  </tbody>\n",
       "</table>\n",
       "</div>"
      ],
      "text/plain": [
       "     admit  gre   gpa  rank\n",
       "59       0  600  2.82     4\n",
       "77       1  800  4.00     3\n",
       "202      1  700  4.00     1\n",
       "263      1  620  3.95     3\n",
       "398      0  700  3.65     2"
      ]
     },
     "execution_count": 232,
     "metadata": {},
     "output_type": "execute_result"
    }
   ],
   "source": [
    "# Inspecting the duplicate rows\n",
    "df[df.duplicated()]\n",
    "\n",
    "# Since the dataset does not have an explicit index related to 'submission_id' or any other unique identifier for each applicant, \n",
    "#    and there is no variable specifically serving that purpose, we can reasonably assume the duplicates appear due to chance. \n",
    "#    Therefore, we will keep the duplicate rows, rather than dropping them."
   ]
  },
  {
   "cell_type": "code",
   "execution_count": 233,
   "id": "a03bebe3-7a24-4675-8210-64e63dc1ec00",
   "metadata": {},
   "outputs": [
    {
     "data": {
      "text/html": [
       "<div>\n",
       "<style scoped>\n",
       "    .dataframe tbody tr th:only-of-type {\n",
       "        vertical-align: middle;\n",
       "    }\n",
       "\n",
       "    .dataframe tbody tr th {\n",
       "        vertical-align: top;\n",
       "    }\n",
       "\n",
       "    .dataframe thead th {\n",
       "        text-align: right;\n",
       "    }\n",
       "</style>\n",
       "<table border=\"1\" class=\"dataframe\">\n",
       "  <thead>\n",
       "    <tr style=\"text-align: right;\">\n",
       "      <th></th>\n",
       "      <th>admit</th>\n",
       "      <th>gre</th>\n",
       "      <th>gpa</th>\n",
       "      <th>rank</th>\n",
       "    </tr>\n",
       "  </thead>\n",
       "  <tbody>\n",
       "    <tr>\n",
       "      <th>count</th>\n",
       "      <td>400.00</td>\n",
       "      <td>400.00</td>\n",
       "      <td>400.00</td>\n",
       "      <td>400.00</td>\n",
       "    </tr>\n",
       "    <tr>\n",
       "      <th>mean</th>\n",
       "      <td>0.32</td>\n",
       "      <td>587.70</td>\n",
       "      <td>3.39</td>\n",
       "      <td>2.48</td>\n",
       "    </tr>\n",
       "    <tr>\n",
       "      <th>std</th>\n",
       "      <td>0.47</td>\n",
       "      <td>115.52</td>\n",
       "      <td>0.38</td>\n",
       "      <td>0.94</td>\n",
       "    </tr>\n",
       "    <tr>\n",
       "      <th>min</th>\n",
       "      <td>0.00</td>\n",
       "      <td>220.00</td>\n",
       "      <td>2.26</td>\n",
       "      <td>1.00</td>\n",
       "    </tr>\n",
       "    <tr>\n",
       "      <th>25%</th>\n",
       "      <td>0.00</td>\n",
       "      <td>520.00</td>\n",
       "      <td>3.13</td>\n",
       "      <td>2.00</td>\n",
       "    </tr>\n",
       "    <tr>\n",
       "      <th>50%</th>\n",
       "      <td>0.00</td>\n",
       "      <td>580.00</td>\n",
       "      <td>3.40</td>\n",
       "      <td>2.00</td>\n",
       "    </tr>\n",
       "    <tr>\n",
       "      <th>75%</th>\n",
       "      <td>1.00</td>\n",
       "      <td>660.00</td>\n",
       "      <td>3.67</td>\n",
       "      <td>3.00</td>\n",
       "    </tr>\n",
       "    <tr>\n",
       "      <th>max</th>\n",
       "      <td>1.00</td>\n",
       "      <td>800.00</td>\n",
       "      <td>4.00</td>\n",
       "      <td>4.00</td>\n",
       "    </tr>\n",
       "  </tbody>\n",
       "</table>\n",
       "</div>"
      ],
      "text/plain": [
       "        admit     gre     gpa    rank\n",
       "count  400.00  400.00  400.00  400.00\n",
       "mean     0.32  587.70    3.39    2.48\n",
       "std      0.47  115.52    0.38    0.94\n",
       "min      0.00  220.00    2.26    1.00\n",
       "25%      0.00  520.00    3.13    2.00\n",
       "50%      0.00  580.00    3.40    2.00\n",
       "75%      1.00  660.00    3.67    3.00\n",
       "max      1.00  800.00    4.00    4.00"
      ]
     },
     "execution_count": 233,
     "metadata": {},
     "output_type": "execute_result"
    }
   ],
   "source": [
    "# Observing summary statistics for the variables\n",
    "df.describe().round(2)"
   ]
  },
  {
   "cell_type": "code",
   "execution_count": 234,
   "id": "b88c5306-e473-4e0b-8e43-91d3dc36b200",
   "metadata": {},
   "outputs": [
    {
     "data": {
      "text/html": [
       "<div>\n",
       "<style scoped>\n",
       "    .dataframe tbody tr th:only-of-type {\n",
       "        vertical-align: middle;\n",
       "    }\n",
       "\n",
       "    .dataframe tbody tr th {\n",
       "        vertical-align: top;\n",
       "    }\n",
       "\n",
       "    .dataframe thead th {\n",
       "        text-align: right;\n",
       "    }\n",
       "</style>\n",
       "<table border=\"1\" class=\"dataframe\">\n",
       "  <thead>\n",
       "    <tr style=\"text-align: right;\">\n",
       "      <th></th>\n",
       "      <th>admit</th>\n",
       "      <th>count</th>\n",
       "      <th>proportion</th>\n",
       "    </tr>\n",
       "  </thead>\n",
       "  <tbody>\n",
       "    <tr>\n",
       "      <th>0</th>\n",
       "      <td>0</td>\n",
       "      <td>273</td>\n",
       "      <td>0.682</td>\n",
       "    </tr>\n",
       "    <tr>\n",
       "      <th>1</th>\n",
       "      <td>1</td>\n",
       "      <td>127</td>\n",
       "      <td>0.318</td>\n",
       "    </tr>\n",
       "  </tbody>\n",
       "</table>\n",
       "</div>"
      ],
      "text/plain": [
       "   admit  count  proportion\n",
       "0      0    273       0.682\n",
       "1      1    127       0.318"
      ]
     },
     "execution_count": 234,
     "metadata": {},
     "output_type": "execute_result"
    }
   ],
   "source": [
    "# Question 1: Checking for class balance of the dependent variable 'admit'\n",
    "admit_counts = df['admit'].value_counts()\n",
    "admit_props = df['admit'].value_counts(normalize = True).round(3)\n",
    "\n",
    "pd.merge(admit_counts, admit_props, on = 'admit').reset_index()\n",
    "\n",
    "# The classes are not balanced. About 68% of the observations were not admitted"
   ]
  },
  {
   "cell_type": "code",
   "execution_count": 235,
   "id": "882d0f31-53f6-416d-93c6-da49bdf3de0b",
   "metadata": {},
   "outputs": [
    {
     "name": "stdout",
     "output_type": "stream",
     "text": [
      "Skewness of GRE scores: -0.14\n",
      "\n"
     ]
    },
    {
     "data": {
      "image/png": "[encoded data removed]",
      "text/plain": [
       "<Figure size 640x480 with 1 Axes>"
      ]
     },
     "metadata": {},
     "output_type": "display_data"
    }
   ],
   "source": [
    "# Question 2: Examining the distribution and the skew of GRE scores\n",
    "print(f\"Skewness of GRE scores: {round(skew(df['gre']), 2)}\\n\")\n",
    "\n",
    "plt.hist(df['gre'], edgecolor = 'black', alpha = .5)\n",
    "plt.title('Histogram of GRE scores', fontsize = 14, weight = 'bold')\n",
    "plt.xlabel('GRE scores', fontsize = 12, weight = 'bold')\n",
    "plt.axvline(df['gre'].mean(), linestyle = '--', color = 'red', alpha = .7, label = 'Mean')\n",
    "plt.axvline(df['gre'].median(), linestyle = '--', color = 'purple', alpha = .7, label = 'Median')\n",
    "plt.legend()\n",
    "plt.show()\n",
    "\n",
    "# The distribution of GRE scores is approximately symmetric, with a very slight left skew caused by a few lower outliers. \n",
    "#     However, the mean and median are close, indicating near-normality"
   ]
  },
  {
   "cell_type": "code",
   "execution_count": 236,
   "id": "d50202a4-9a16-4e59-bdc4-277764518879",
   "metadata": {},
   "outputs": [
    {
     "name": "stdout",
     "output_type": "stream",
     "text": [
      "Skewness of GPA: -0.21\n",
      "\n"
     ]
    },
    {
     "data": {
      "image/png": "[encoded data removed]",
      "text/plain": [
       "<Figure size 640x480 with 1 Axes>"
      ]
     },
     "metadata": {},
     "output_type": "display_data"
    }
   ],
   "source": [
    "# Examining the distribution and the skew of GPAs\n",
    "print(f\"Skewness of GPA: {round(skew(df['gpa']), 2)}\\n\")\n",
    "\n",
    "plt.hist(df['gpa'], edgecolor = 'black', alpha = .5)\n",
    "plt.title('Histogram of GPAs', fontsize = 14, weight = 'bold')\n",
    "plt.xlabel('GPA', fontsize = 12, weight = 'bold')\n",
    "plt.axvline(df['gpa'].mean(), linestyle = '--', color = 'red', alpha = .7, label = 'Mean')\n",
    "plt.axvline(df['gpa'].median(), linestyle = '--', color = 'purple', alpha = .7, label = 'Median')\n",
    "plt.legend()\n",
    "plt.show()\n",
    "\n",
    "# Similar to GRE scores, the distribution of GPAs is approximately normal, although it still contains a few lower outliers"
   ]
  },
  {
   "cell_type": "code",
   "execution_count": 237,
   "id": "f608f629-da46-4847-a3fc-90a251821640",
   "metadata": {},
   "outputs": [
    {
     "data": {
      "text/html": [
       "<div>\n",
       "<style scoped>\n",
       "    .dataframe tbody tr th:only-of-type {\n",
       "        vertical-align: middle;\n",
       "    }\n",
       "\n",
       "    .dataframe tbody tr th {\n",
       "        vertical-align: top;\n",
       "    }\n",
       "\n",
       "    .dataframe thead th {\n",
       "        text-align: right;\n",
       "    }\n",
       "</style>\n",
       "<table border=\"1\" class=\"dataframe\">\n",
       "  <thead>\n",
       "    <tr style=\"text-align: right;\">\n",
       "      <th></th>\n",
       "      <th>rank</th>\n",
       "      <th>count</th>\n",
       "    </tr>\n",
       "  </thead>\n",
       "  <tbody>\n",
       "    <tr>\n",
       "      <th>0</th>\n",
       "      <td>2</td>\n",
       "      <td>151</td>\n",
       "    </tr>\n",
       "    <tr>\n",
       "      <th>1</th>\n",
       "      <td>3</td>\n",
       "      <td>121</td>\n",
       "    </tr>\n",
       "    <tr>\n",
       "      <th>2</th>\n",
       "      <td>4</td>\n",
       "      <td>67</td>\n",
       "    </tr>\n",
       "    <tr>\n",
       "      <th>3</th>\n",
       "      <td>1</td>\n",
       "      <td>61</td>\n",
       "    </tr>\n",
       "  </tbody>\n",
       "</table>\n",
       "</div>"
      ],
      "text/plain": [
       "   rank  count\n",
       "0     2    151\n",
       "1     3    121\n",
       "2     4     67\n",
       "3     1     61"
      ]
     },
     "execution_count": 237,
     "metadata": {},
     "output_type": "execute_result"
    }
   ],
   "source": [
    "# Observing the value counts of university rankings\n",
    "df.value_counts('rank').reset_index()\n",
    "\n",
    "# Most applicant's schools rank either 2 or 3"
   ]
  },
  {
   "cell_type": "code",
   "execution_count": 238,
   "id": "22dc80b8-d872-469b-831f-7b30db27582d",
   "metadata": {},
   "outputs": [
    {
     "data": {
      "image/png": "[encoded data removed]",
      "text/plain": [
       "<Figure size 1200x600 with 2 Axes>"
      ]
     },
     "metadata": {},
     "output_type": "display_data"
    }
   ],
   "source": [
    "# Visualizing the differences in GRE scores and GPAs for applicants who were admitted (1) or not (0) using boxplots \n",
    "fig, ax = plt.subplots(1, 2, figsize = (12, 6))\n",
    "\n",
    "sns.boxplot(data = df, x = 'admit', y = 'gpa', hue = 'admit', palette = 'pastel', legend = False, ax = ax[0])\n",
    "ax[0].set_title('Boxplot of GPAs by Admittance', fontsize = 14, weight = 'bold')\n",
    "ax[0].set_ylabel('GPA', fontsize = 12, weight = 'bold')\n",
    "ax[0].set_xlabel('Admit', fontsize = 12, weight = 'bold')\n",
    "\n",
    "sns.boxplot(data = df, x = 'admit', y = 'gre', hue = 'admit', palette = 'pastel', legend = False, ax = ax[1])\n",
    "ax[1].set_title('Boxplot of GRE scores by Admittance', fontsize = 14, weight = 'bold')\n",
    "ax[1].set_ylabel('GRE Score', fontsize = 12, weight = 'bold')\n",
    "ax[1].set_xlabel('Admit', fontsize = 12, weight = 'bold')\n",
    "\n",
    "plt.tight_layout()\n",
    "plt.show()\n",
    "\n",
    "# As expected, both GRE scores and GPAs are typically higher for those that were admitted vs. not admitted"
   ]
  },
  {
   "cell_type": "code",
   "execution_count": 239,
   "id": "745eee47-5ee5-46ca-a8f3-b90091630989",
   "metadata": {},
   "outputs": [
    {
     "data": {
      "text/html": [
       "<div>\n",
       "<style scoped>\n",
       "    .dataframe tbody tr th:only-of-type {\n",
       "        vertical-align: middle;\n",
       "    }\n",
       "\n",
       "    .dataframe tbody tr th {\n",
       "        vertical-align: top;\n",
       "    }\n",
       "\n",
       "    .dataframe thead th {\n",
       "        text-align: right;\n",
       "    }\n",
       "</style>\n",
       "<table border=\"1\" class=\"dataframe\">\n",
       "  <thead>\n",
       "    <tr style=\"text-align: right;\">\n",
       "      <th></th>\n",
       "      <th>admit</th>\n",
       "      <th>count</th>\n",
       "      <th>mean</th>\n",
       "      <th>std</th>\n",
       "      <th>min</th>\n",
       "      <th>25%</th>\n",
       "      <th>50%</th>\n",
       "      <th>75%</th>\n",
       "      <th>max</th>\n",
       "    </tr>\n",
       "  </thead>\n",
       "  <tbody>\n",
       "    <tr>\n",
       "      <th>0</th>\n",
       "      <td>0</td>\n",
       "      <td>273.0</td>\n",
       "      <td>2.6</td>\n",
       "      <td>0.9</td>\n",
       "      <td>1.0</td>\n",
       "      <td>2.0</td>\n",
       "      <td>3.0</td>\n",
       "      <td>3.0</td>\n",
       "      <td>4.0</td>\n",
       "    </tr>\n",
       "    <tr>\n",
       "      <th>1</th>\n",
       "      <td>1</td>\n",
       "      <td>127.0</td>\n",
       "      <td>2.1</td>\n",
       "      <td>0.9</td>\n",
       "      <td>1.0</td>\n",
       "      <td>1.0</td>\n",
       "      <td>2.0</td>\n",
       "      <td>3.0</td>\n",
       "      <td>4.0</td>\n",
       "    </tr>\n",
       "  </tbody>\n",
       "</table>\n",
       "</div>"
      ],
      "text/plain": [
       "   admit  count  mean  std  min  25%  50%  75%  max\n",
       "0      0  273.0   2.6  0.9  1.0  2.0  3.0  3.0  4.0\n",
       "1      1  127.0   2.1  0.9  1.0  1.0  2.0  3.0  4.0"
      ]
     },
     "execution_count": 239,
     "metadata": {},
     "output_type": "execute_result"
    }
   ],
   "source": [
    "# Presenting summary statistics for applicant's undergraduate university rankings, grouped by their admittance result\n",
    "df.groupby('admit')['rank'].describe().round(1).reset_index()\n",
    "\n",
    "# Those who were accepted had on average a university rank of 2.1, while those who weren't accepted had an average rank of 2.6"
   ]
  },
  {
   "cell_type": "code",
   "execution_count": 240,
   "id": "b052cb86-0148-45b5-b1a6-db7e4d14bafc",
   "metadata": {},
   "outputs": [
    {
     "name": "stdout",
     "output_type": "stream",
     "text": [
      "Optimization terminated successfully.\n",
      "         Current function value: 0.553801\n",
      "         Iterations 6\n"
     ]
    },
    {
     "data": {
      "text/html": [
       "<table class=\"simpletable\">\n",
       "<caption>Logit Regression Results</caption>\n",
       "<tr>\n",
       "  <th>Dep. Variable:</th>         <td>admit</td>      <th>  No. Observations:  </th>  <td>   280</td>  \n",
       "</tr>\n",
       "<tr>\n",
       "  <th>Model:</th>                 <td>Logit</td>      <th>  Df Residuals:      </th>  <td>   276</td>  \n",
       "</tr>\n",
       "<tr>\n",
       "  <th>Method:</th>                 <td>MLE</td>       <th>  Df Model:          </th>  <td>     3</td>  \n",
       "</tr>\n",
       "<tr>\n",
       "  <th>Date:</th>            <td>Fri, 21 Feb 2025</td> <th>  Pseudo R-squ.:     </th>  <td>0.1143</td>  \n",
       "</tr>\n",
       "<tr>\n",
       "  <th>Time:</th>                <td>13:49:25</td>     <th>  Log-Likelihood:    </th> <td> -155.06</td> \n",
       "</tr>\n",
       "<tr>\n",
       "  <th>converged:</th>             <td>True</td>       <th>  LL-Null:           </th> <td> -175.07</td> \n",
       "</tr>\n",
       "<tr>\n",
       "  <th>Covariance Type:</th>     <td>nonrobust</td>    <th>  LLR p-value:       </th> <td>1.061e-08</td>\n",
       "</tr>\n",
       "</table>\n",
       "<table class=\"simpletable\">\n",
       "<tr>\n",
       "    <td></td>       <th>coef</th>     <th>std err</th>      <th>z</th>      <th>P>|z|</th>  <th>[0.025</th>    <th>0.975]</th>  \n",
       "</tr>\n",
       "<tr>\n",
       "  <th>const</th> <td>   -3.7913</td> <td>    1.387</td> <td>   -2.733</td> <td> 0.006</td> <td>   -6.510</td> <td>   -1.072</td>\n",
       "</tr>\n",
       "<tr>\n",
       "  <th>gre</th>   <td>    0.0031</td> <td>    0.001</td> <td>    2.320</td> <td> 0.020</td> <td>    0.000</td> <td>    0.006</td>\n",
       "</tr>\n",
       "<tr>\n",
       "  <th>gpa</th>   <td>    0.8361</td> <td>    0.398</td> <td>    2.100</td> <td> 0.036</td> <td>    0.056</td> <td>    1.616</td>\n",
       "</tr>\n",
       "<tr>\n",
       "  <th>rank</th>  <td>   -0.6775</td> <td>    0.158</td> <td>   -4.299</td> <td> 0.000</td> <td>   -0.986</td> <td>   -0.369</td>\n",
       "</tr>\n",
       "</table>"
      ],
      "text/latex": [
       "\\begin{center}\n",
       "\\begin{tabular}{lclc}\n",
       "\\toprule\n",
       "\\textbf{Dep. Variable:}   &      admit       & \\textbf{  No. Observations:  } &      280    \\\\\n",
       "\\textbf{Model:}           &      Logit       & \\textbf{  Df Residuals:      } &      276    \\\\\n",
       "\\textbf{Method:}          &       MLE        & \\textbf{  Df Model:          } &        3    \\\\\n",
       "\\textbf{Date:}            & Fri, 21 Feb 2025 & \\textbf{  Pseudo R-squ.:     } &   0.1143    \\\\\n",
       "\\textbf{Time:}            &     13:49:25     & \\textbf{  Log-Likelihood:    } &   -155.06   \\\\\n",
       "\\textbf{converged:}       &       True       & \\textbf{  LL-Null:           } &   -175.07   \\\\\n",
       "\\textbf{Covariance Type:} &    nonrobust     & \\textbf{  LLR p-value:       } & 1.061e-08   \\\\\n",
       "\\bottomrule\n",
       "\\end{tabular}\n",
       "\\begin{tabular}{lcccccc}\n",
       "               & \\textbf{coef} & \\textbf{std err} & \\textbf{z} & \\textbf{P$> |$z$|$} & \\textbf{[0.025} & \\textbf{0.975]}  \\\\\n",
       "\\midrule\n",
       "\\textbf{const} &      -3.7913  &        1.387     &    -2.733  &         0.006        &       -6.510    &       -1.072     \\\\\n",
       "\\textbf{gre}   &       0.0031  &        0.001     &     2.320  &         0.020        &        0.000    &        0.006     \\\\\n",
       "\\textbf{gpa}   &       0.8361  &        0.398     &     2.100  &         0.036        &        0.056    &        1.616     \\\\\n",
       "\\textbf{rank}  &      -0.6775  &        0.158     &    -4.299  &         0.000        &       -0.986    &       -0.369     \\\\\n",
       "\\bottomrule\n",
       "\\end{tabular}\n",
       "%\\caption{Logit Regression Results}\n",
       "\\end{center}"
      ],
      "text/plain": [
       "<class 'statsmodels.iolib.summary.Summary'>\n",
       "\"\"\"\n",
       "                           Logit Regression Results                           \n",
       "==============================================================================\n",
       "Dep. Variable:                  admit   No. Observations:                  280\n",
       "Model:                          Logit   Df Residuals:                      276\n",
       "Method:                           MLE   Df Model:                            3\n",
       "Date:                Fri, 21 Feb 2025   Pseudo R-squ.:                  0.1143\n",
       "Time:                        13:49:25   Log-Likelihood:                -155.06\n",
       "converged:                       True   LL-Null:                       -175.07\n",
       "Covariance Type:            nonrobust   LLR p-value:                 1.061e-08\n",
       "==============================================================================\n",
       "                 coef    std err          z      P>|z|      [0.025      0.975]\n",
       "------------------------------------------------------------------------------\n",
       "const         -3.7913      1.387     -2.733      0.006      -6.510      -1.072\n",
       "gre            0.0031      0.001      2.320      0.020       0.000       0.006\n",
       "gpa            0.8361      0.398      2.100      0.036       0.056       1.616\n",
       "rank          -0.6775      0.158     -4.299      0.000      -0.986      -0.369\n",
       "==============================================================================\n",
       "\"\"\""
      ]
     },
     "execution_count": 240,
     "metadata": {},
     "output_type": "execute_result"
    }
   ],
   "source": [
    "# Defining the independent and dependent variables to use for the regression \n",
    "X = sm.add_constant(df.drop(columns = 'admit'))\n",
    "y = df['admit']\n",
    "\n",
    "# Splitting the data into training and testing sets\n",
    "X_train, X_test, y_train, y_test = train_test_split(X, y, test_size = .3, random_state = 5)\n",
    "\n",
    "# Fitting the logistic regression model on the training data and printing the summary\n",
    "model = sm.Logit(y_train, X_train).fit()\n",
    "\n",
    "model.summary()"
   ]
  },
  {
   "cell_type": "markdown",
   "id": "6e18abe6-9360-4840-a9a3-26c90f2cc074",
   "metadata": {},
   "source": [
    "# Model Summary Evaluation: \n",
    "### Significance of Independent Variables: \n",
    "- All three independent variables had $p$-values less than 0.05, indicating that they were statistically significant at the 5% significance level.\n",
    "- The variable **rank** had the smallest $p$-value, with it being $\\approx$ 0.00.<br>\n",
    "### Most Important Variable: \n",
    "- The most influential predictor in the model was **gpa**, as it had the highest absolute value of the coefficient (.836), signaling its strong association with the outcome variable, and it was also statistically significant at the 5% level. <br>\n",
    "### Model Fit: \n",
    "- The overall fit of the model, as indicated by the pseudo $R^2$, was relatively low at around 0.11. This suggests that the model explains only a small portion of the variance in the outcome variable, **admit**. This indicates that there may be other important factors not captured by the current set of predictors, and additional variables could improve the model’s predictive power."
   ]
  },
  {
   "cell_type": "code",
   "execution_count": 242,
   "id": "13d11414-51af-496d-9e12-f5f0c41f02ea",
   "metadata": {},
   "outputs": [
    {
     "name": "stdout",
     "output_type": "stream",
     "text": [
      "Training Accuracy Score: 0.739\n",
      "Training Precision Score: 0.682\n",
      "Training Recall Score: 0.337\n",
      "\n"
     ]
    },
    {
     "data": {
      "image/png": "[encoded data removed]",
      "text/plain": [
       "<Figure size 640x480 with 2 Axes>"
      ]
     },
     "metadata": {},
     "output_type": "display_data"
    }
   ],
   "source": [
    "# Getting the predicted probabilities from the training data\n",
    "y_pred_probs_train = model.predict(X_train)\n",
    "\n",
    "# Assigning those probabilities to classes of 1 and 0 using a threshold of .5\n",
    "y_pred_classes_train = np.where(y_pred_probs_train > .5, 1, 0)\n",
    "\n",
    "# Calculating evaluation metrics and printing them\n",
    "accuracy_train = accuracy_score(y_train, y_pred_classes_train)\n",
    "\n",
    "precision_train = precision_score(y_train, y_pred_classes_train)\n",
    "\n",
    "recall_train = recall_score(y_train, y_pred_classes_train)\n",
    "\n",
    "conf_matrix_train = confusion_matrix(y_train, y_pred_classes_train)\n",
    "\n",
    "print(f'Training Accuracy Score: {accuracy_train.round(3)}')\n",
    "print(f'Training Precision Score: {precision_train.round(3)}')\n",
    "print(f'Training Recall Score: {recall_train.round(3)}\\n')\n",
    "\n",
    "# Illustrating a confusion matrix of the training data results\n",
    "sns.heatmap(conf_matrix_train, annot = True, fmt = 'd', cmap = 'Blues', xticklabels = ['Not Admitted', 'Admitted'], yticklabels = ['Not Admitted', 'Admitted'])\n",
    "plt.title('Confusion Matrix for Training Data', fontsize = 14, weight = 'bold')\n",
    "plt.ylabel('Actual', fontsize = 12, weight = 'bold')\n",
    "plt.xlabel('Predicted', fontsize = 12, weight = 'bold')\n",
    "plt.tight_layout()\n",
    "plt.show()\n",
    "\n",
    "# The model produced a low recall score, indicating that there were a large amount of false negative cases (59) in the training data"
   ]
  },
  {
   "cell_type": "code",
   "execution_count": 243,
   "id": "c84a614f-b96e-4a84-b446-b29bf56597ab",
   "metadata": {},
   "outputs": [
    {
     "name": "stdout",
     "output_type": "stream",
     "text": [
      "Testing Accuracy Score: 0.608\n",
      "Testing Precision Score: 0.286\n",
      "Testing Recall Score: 0.158\n",
      "\n"
     ]
    },
    {
     "data": {
      "image/png": "[encoded data removed]",
      "text/plain": [
       "<Figure size 640x480 with 2 Axes>"
      ]
     },
     "metadata": {},
     "output_type": "display_data"
    }
   ],
   "source": [
    "# Getting the predicted probabilities from the testing data\n",
    "y_pred_probs_test = model.predict(X_test)\n",
    "\n",
    "# Assigning those probabilities to classes of 1 and 0 using a threshold of .5\n",
    "y_pred_classes_test = np.where(y_pred_probs_test > .5, 1, 0)\n",
    "\n",
    "# Calculating evaluation metrics and printing them\n",
    "accuracy_test = accuracy_score(y_test, y_pred_classes_test)\n",
    "\n",
    "precision_test = precision_score(y_test, y_pred_classes_test)\n",
    "\n",
    "recall_test = recall_score(y_test, y_pred_classes_test)\n",
    "\n",
    "conf_matrix_test = confusion_matrix(y_test, y_pred_classes_test)\n",
    "\n",
    "print(f'Testing Accuracy Score: {accuracy_test.round(3)}')\n",
    "print(f'Testing Precision Score: {precision_test.round(3)}')\n",
    "print(f'Testing Recall Score: {recall_test.round(3)}\\n')\n",
    "\n",
    "# Illustrating a confusion matrix of the testing data results\n",
    "sns.heatmap(conf_matrix_test, annot = True, fmt = 'd', cmap = 'Blues', xticklabels = ['Not Admitted', 'Admitted'], yticklabels = ['Not Admitted', 'Admitted'])\n",
    "plt.title('Confusion Matrix for Testing Data', fontsize = 14, weight = 'bold')\n",
    "plt.ylabel('Actual', fontsize = 12, weight = 'bold')\n",
    "plt.xlabel('Predicted', fontsize = 12, weight = 'bold')\n",
    "plt.tight_layout()\n",
    "plt.show()\n",
    "\n",
    "# The model produced a low precision and recall score, suggesting that there are a large amount of false positives (15), \n",
    "#    and false negatives (32) in the testing data"
   ]
  },
  {
   "cell_type": "markdown",
   "id": "1f5b7117-0f38-4eae-bb85-aaf161eb338d",
   "metadata": {},
   "source": [
    "# Evaluation Metric Summary: \n",
    "### Training vs. Testing Data:\n",
    "- The model performed better on the training data than on the testing data, suggesting that it may have overfitted to the training set. This discrepancy indicates that the model may not generalize well to unseen data. <br>\n",
    "### Accuracy, Precision, and Recall Scores:\n",
    "- The accuracy score was higher on the training data (.739) compared to the testing data (.608), highlighting the potential overfitting issue.\n",
    "- The precision score dropped significantly from .682 on the training data to .286 on the testing data, indicating that the model is incorrectly predicting a large number of positive instances (false positives) in the testing data.\n",
    "- The recall score was low for both the training (.337) and testing (.158) sets, suggesting that the model is missing a considerable number of true positive cases (false negatives), which points to poor sensitivity."
   ]
  }
 ],
 "metadata": {
  "kernelspec": {
   "display_name": "anaconda-2024.02-py310",
   "language": "python",
   "name": "conda-env-anaconda-2024.02-py310-py"
  },
  "language_info": {
   "codemirror_mode": {
    "name": "ipython",
    "version": 3
   },
   "file_extension": ".py",
   "mimetype": "text/x-python",
   "name": "python",
   "nbconvert_exporter": "python",
   "pygments_lexer": "ipython3",
   "version": "3.10.14"
  }
 },
 "nbformat": 4,
 "nbformat_minor": 5
}
